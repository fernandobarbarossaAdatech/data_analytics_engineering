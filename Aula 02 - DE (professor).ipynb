{
 "cells": [
  {
   "cell_type": "markdown",
   "id": "encouraging-liechtenstein",
   "metadata": {},
   "source": [
    "# Aula 02"
   ]
  },
  {
   "cell_type": "markdown",
   "id": "diagnostic-business",
   "metadata": {},
   "source": [
    "## Instalando as bibliotecas necessárias\n",
    "\n",
    "Antes de começar, precisamos importar as bibliotecas necessárias"
   ]
  },
  {
   "cell_type": "code",
   "execution_count": null,
   "id": "9a36a5c8",
   "metadata": {},
   "outputs": [],
   "source": [
    "!pip install pandas\n",
    "!pip install Faker"
   ]
  },
  {
   "cell_type": "markdown",
   "id": "alternate-candidate",
   "metadata": {},
   "source": [
    "## Modelagem de tabelas especializadas com dados agrupados e/ou sumarizados."
   ]
  },
  {
   "cell_type": "code",
   "execution_count": null,
   "id": "24877e9a",
   "metadata": {},
   "outputs": [],
   "source": [
    "import pandas as pd\n",
    "pd.set_option(\"display.max_columns\", 100)\n",
    "\n",
    "path ='dados/aula2/sales/sales_data_sample.csv'\n",
    "sales_df = pd.read_csv(path, encoding=\"ansi\")\n"
   ]
  },
  {
   "cell_type": "code",
   "execution_count": null,
   "id": "d5a5d3d0",
   "metadata": {},
   "outputs": [],
   "source": [
    "sales_df.head(1)"
   ]
  },
  {
   "cell_type": "code",
   "execution_count": null,
   "id": "35db9307",
   "metadata": {},
   "outputs": [],
   "source": [
    "sales_df.tail(1)"
   ]
  },
  {
   "cell_type": "code",
   "execution_count": null,
   "id": "1cb12e3b",
   "metadata": {},
   "outputs": [],
   "source": [
    "sales_df.describe()"
   ]
  },
  {
   "cell_type": "code",
   "execution_count": null,
   "id": "8857aba0",
   "metadata": {},
   "outputs": [],
   "source": [
    "sales_df.info()"
   ]
  },
  {
   "cell_type": "code",
   "execution_count": null,
   "id": "e85f283b",
   "metadata": {},
   "outputs": [],
   "source": [
    "sales_df.isna().sum()"
   ]
  },
  {
   "cell_type": "code",
   "execution_count": null,
   "id": "80be9580",
   "metadata": {},
   "outputs": [],
   "source": [
    "sales_df.count()"
   ]
  },
  {
   "cell_type": "code",
   "execution_count": null,
   "id": "da294078",
   "metadata": {},
   "outputs": [],
   "source": [
    "sales_df.duplicated()"
   ]
  },
  {
   "cell_type": "code",
   "execution_count": null,
   "id": "dd379236",
   "metadata": {},
   "outputs": [],
   "source": [
    "sales_df.shape"
   ]
  },
  {
   "cell_type": "code",
   "execution_count": null,
   "id": "ae961202",
   "metadata": {},
   "outputs": [],
   "source": [
    "sales_df2 = sales_df[['ORDERNUMBER', 'QUANTITYORDERED', 'PRODUCTLINE']]"
   ]
  },
  {
   "cell_type": "code",
   "execution_count": null,
   "id": "3c6ceeed",
   "metadata": {},
   "outputs": [],
   "source": [
    "sales_df2.shape"
   ]
  },
  {
   "cell_type": "code",
   "execution_count": null,
   "id": "feaa4541",
   "metadata": {},
   "outputs": [],
   "source": [
    "sales_df2['QUANTITYORDERED']>30"
   ]
  },
  {
   "cell_type": "code",
   "execution_count": null,
   "id": "05994d12",
   "metadata": {},
   "outputs": [],
   "source": [
    "sales_df3 = sales_df2[sales_df2['QUANTITYORDERED']>30]"
   ]
  },
  {
   "cell_type": "code",
   "execution_count": null,
   "id": "7aaa586d",
   "metadata": {},
   "outputs": [],
   "source": [
    "sales_df.drop_duplicates(inplace=True)"
   ]
  },
  {
   "cell_type": "code",
   "execution_count": null,
   "id": "da58f8b3",
   "metadata": {},
   "outputs": [],
   "source": [
    "sales_df[sales_df.duplicated() ==False]"
   ]
  },
  {
   "cell_type": "code",
   "execution_count": null,
   "id": "16226d7a",
   "metadata": {},
   "outputs": [],
   "source": [
    "sales_df2 = sales_df2.drop_duplicates()\n",
    "sales_df2.drop_duplicates(inplace = True)"
   ]
  },
  {
   "cell_type": "code",
   "execution_count": null,
   "id": "0f18b8eb",
   "metadata": {},
   "outputs": [],
   "source": [
    "sales_df2.info()"
   ]
  },
  {
   "attachments": {},
   "cell_type": "markdown",
   "id": "9f50049d",
   "metadata": {},
   "source": [
    "### Criando um dataset manualmente"
   ]
  },
  {
   "cell_type": "code",
   "execution_count": null,
   "id": "7c542f52",
   "metadata": {},
   "outputs": [],
   "source": [
    "df_manual = pd.DataFrame(\n",
    "        {\n",
    "        'nome':['Ana', 'Joao', 'Maria'],\n",
    "        'idade': [18, 35, 23]} \n",
    ")\n",
    "df_manual"
   ]
  },
  {
   "attachments": {},
   "cell_type": "markdown",
   "id": "f19ab308",
   "metadata": {},
   "source": [
    "### Criando um dataset fake"
   ]
  },
  {
   "cell_type": "code",
   "execution_count": null,
   "id": "e4e3efa5",
   "metadata": {},
   "outputs": [],
   "source": [
    "from faker import Faker\n",
    "fake = Faker()"
   ]
  },
  {
   "attachments": {},
   "cell_type": "markdown",
   "id": "195eb062",
   "metadata": {},
   "source": [
    "Fazer um df fake contendo coluna nascimento, nome e email. O df deve conter 10 linhas"
   ]
  },
  {
   "cell_type": "code",
   "execution_count": null,
   "id": "1c2e814f",
   "metadata": {},
   "outputs": [],
   "source": [
    "nascimentos = []\n",
    "nomes = []\n",
    "emails = []\n",
    "\n",
    "for i in range(10):\n",
    "    nascimentos.append(fake.date())\n",
    "    nomes.append(fake.name())\n",
    "    emails.append(fake.email())\n",
    "\n",
    "df_fake = pd.DataFrame(\n",
    "    {\n",
    "        'data_nascimento': nascimentos,\n",
    "        'nome': nomes,\n",
    "        'email': emails\n",
    "    }\n",
    ")\n",
    "df_fake"
   ]
  },
  {
   "cell_type": "code",
   "execution_count": null,
   "id": "77d97491",
   "metadata": {},
   "outputs": [],
   "source": [
    "fake_df = pd.DataFrame({\n",
    "    'data_nascimento':[fake.date() for i in range(10)],\n",
    "    'nome':[fake.name() for i in range(10)],\n",
    "    'email':[fake.email() for i in range(10)],\n",
    "})\n",
    "fake_df"
   ]
  },
  {
   "attachments": {},
   "cell_type": "markdown",
   "id": "7cf2aaf7",
   "metadata": {},
   "source": [
    "Converter a a coluna data nascimento para datetime e filtar os nascidos depois do ano 2000"
   ]
  },
  {
   "cell_type": "code",
   "execution_count": null,
   "id": "ba129ec7",
   "metadata": {},
   "outputs": [],
   "source": [
    "fake_df['data_nascimento']=pd.to_datetime(fake_df['data_nascimento'])"
   ]
  },
  {
   "cell_type": "code",
   "execution_count": null,
   "id": "4b340db7",
   "metadata": {},
   "outputs": [],
   "source": [
    "fake_df.info()"
   ]
  },
  {
   "cell_type": "code",
   "execution_count": null,
   "id": "9eca3dfc",
   "metadata": {},
   "outputs": [],
   "source": [
    "fake_df[fake_df['data_nascimento'] > '2000-01-01 00:00:00']"
   ]
  },
  {
   "cell_type": "code",
   "execution_count": null,
   "id": "b2e273cd",
   "metadata": {},
   "outputs": [],
   "source": [
    "fake_df[fake_df['data_nascimento'].dt.year>2000]"
   ]
  },
  {
   "cell_type": "code",
   "execution_count": null,
   "id": "b9fdd1b9",
   "metadata": {},
   "outputs": [],
   "source": [
    "fake_df.query(\"data_nascimento > '2000-01-01 00:00:00'\")"
   ]
  },
  {
   "attachments": {},
   "cell_type": "markdown",
   "id": "c78de5b1",
   "metadata": {},
   "source": [
    "### Com o seguinte dataset realize as operações a seguir:\n",
    "\n",
    "Fonte de dados: https://www.kaggle.com/datasets/dgoenrique/disney-movies-and-tv-shows\n",
    "\n",
    "- Mostrar o resumo dos dados\n",
    "\n",
    "- Exibir o total de valores nulos para cada coluna\n",
    "\n",
    "- Exibir o total de duplicados"
   ]
  },
  {
   "cell_type": "code",
   "execution_count": null,
   "id": "4fdd4e4a",
   "metadata": {},
   "outputs": [],
   "source": [
    "path = 'dados/aula2/disney/titles.csv'\n",
    "titles_df = pd.read_csv(path)\n",
    "titles_df.head(2)"
   ]
  },
  {
   "cell_type": "code",
   "execution_count": null,
   "id": "74cd0e4e",
   "metadata": {},
   "outputs": [],
   "source": [
    "titles_df.info()"
   ]
  },
  {
   "cell_type": "code",
   "execution_count": null,
   "id": "17e92871",
   "metadata": {},
   "outputs": [],
   "source": [
    "titles_df.isna().sum()"
   ]
  },
  {
   "cell_type": "code",
   "execution_count": null,
   "id": "ea37adbd",
   "metadata": {},
   "outputs": [],
   "source": [
    "titles_df.duplicated(titles_df).sum()"
   ]
  },
  {
   "cell_type": "code",
   "execution_count": null,
   "id": "93e60df8",
   "metadata": {},
   "outputs": [],
   "source": [
    "titles_df.drop_duplicates(keep='last', inplace=True)"
   ]
  },
  {
   "attachments": {},
   "cell_type": "markdown",
   "id": "31351e98",
   "metadata": {},
   "source": [
    "### Harmonizando dados\n",
    "\n",
    "- Fonte de dados: https://www.imdb.com/interfaces/\n",
    "- Repositório: `dados/harmonizacao/rating_data.tsv`"
   ]
  },
  {
   "cell_type": "code",
   "execution_count": null,
   "id": "6174f2dd",
   "metadata": {},
   "outputs": [],
   "source": [
    "path = 'dados/aula2/harmonizacao/rating_data.tsv'\n",
    "rating_df = pd.read_csv(path, sep='\\t')"
   ]
  },
  {
   "cell_type": "code",
   "execution_count": null,
   "id": "26cd9827",
   "metadata": {},
   "outputs": [],
   "source": [
    "rating_df.head()"
   ]
  },
  {
   "cell_type": "code",
   "execution_count": null,
   "id": "5623a510",
   "metadata": {},
   "outputs": [],
   "source": [
    "rating_df.info()"
   ]
  },
  {
   "cell_type": "code",
   "execution_count": null,
   "id": "6eab8367",
   "metadata": {},
   "outputs": [],
   "source": [
    "path = 'dados/aula2/harmonizacao/basics_data.tsv'\n",
    "basics_df = pd.read_csv(path, sep='\\t')"
   ]
  },
  {
   "cell_type": "code",
   "execution_count": null,
   "id": "6f48f3c3",
   "metadata": {},
   "outputs": [],
   "source": [
    "basics_df.head()"
   ]
  },
  {
   "cell_type": "code",
   "execution_count": null,
   "id": "ee3e50ea",
   "metadata": {},
   "outputs": [],
   "source": [
    "merged_df = pd.merge(basics_df,rating_df, how='inner', left_on='tconst', right_on='tconst')"
   ]
  },
  {
   "cell_type": "code",
   "execution_count": null,
   "id": "8fb10706",
   "metadata": {},
   "outputs": [],
   "source": [
    "merged_df.head()"
   ]
  },
  {
   "cell_type": "code",
   "execution_count": null,
   "id": "4d8709c1",
   "metadata": {},
   "outputs": [],
   "source": [
    "harmonized_df = merged_df.loc[:, ['genres', 'primaryTitle', 'averageRating']]"
   ]
  },
  {
   "cell_type": "code",
   "execution_count": null,
   "id": "756c4d70",
   "metadata": {},
   "outputs": [],
   "source": [
    "harmonized_df.sort_values(by = ['averageRating'], ascending=False)"
   ]
  },
  {
   "cell_type": "code",
   "execution_count": null,
   "id": "e84d0f29",
   "metadata": {},
   "outputs": [],
   "source": [
    "harmonized_genres_group_by = harmonized_df.groupby(['genres']).agg(\"averageRating\").mean()\n",
    "harmonized_genres_group_by.sort_values(ascending=False)"
   ]
  }
 ],
 "metadata": {
  "kernelspec": {
   "display_name": "Python 3",
   "language": "python",
   "name": "python3"
  },
  "language_info": {
   "codemirror_mode": {
    "name": "ipython",
    "version": 3
   },
   "file_extension": ".py",
   "mimetype": "text/x-python",
   "name": "python",
   "nbconvert_exporter": "python",
   "pygments_lexer": "ipython3",
   "version": "3.8.10"
  }
 },
 "nbformat": 4,
 "nbformat_minor": 5
}
