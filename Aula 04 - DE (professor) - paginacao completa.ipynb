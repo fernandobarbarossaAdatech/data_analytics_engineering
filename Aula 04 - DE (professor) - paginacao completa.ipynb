{
 "cells": [
  {
   "cell_type": "code",
   "execution_count": null,
   "metadata": {},
   "outputs": [],
   "source": [
    "import pandas as pd\n",
    "import requests\n",
    "\n",
    "api_url = \"https://api.yelp.com/v3/businesses/search\"\n",
    "\n",
    "params = {\n",
    "    \"term\": \"bookstore\",\n",
    "    \"location\": \"San Francisco\"\n",
    "}\n",
    "\n",
    "api_key = 'E75fkz2z6r266cXTaRvTnMSmAuvEq9pqhtsX8oqRxRhP3mJ1wExtiGixZ8wWjNWnX_PgBDtdNoXpm57gWKIxZ0VOZ0emVSC1aOkZFLohRBsiYaxXzHa44-bPZoobZHYx'\n",
    "headers = {\"Authorization\": \"Bearer {}\".format(api_key)}\n",
    "\n",
    "response = requests.get(api_url, params=params, headers=headers)"
   ]
  },
  {
   "cell_type": "markdown",
   "metadata": {},
   "source": [
    "### Paginação completa"
   ]
  },
  {
   "cell_type": "code",
   "execution_count": null,
   "metadata": {},
   "outputs": [],
   "source": [
    "bookstores_list = []\n",
    "\n",
    "params[\"offset\"] = 0\n",
    "params[\"limit\"] = 50\n",
    "\n",
    "offset = 50\n",
    "i = 0\n",
    "while offset == 50:\n",
    "    next_results = requests.get(api_url, headers=headers, params=params).json() \n",
    "    offset = len(next_results.get(\"businesses\"))\n",
    "\n",
    "    bookstores_list.extend(next_results.get(\"businesses\"))\n",
    "    \n",
    "    i += 1\n",
    "    params[\"offset\"] = 50 * i"
   ]
  },
  {
   "cell_type": "code",
   "execution_count": null,
   "metadata": {},
   "outputs": [],
   "source": [
    "len(bookstores_list)"
   ]
  },
  {
   "cell_type": "code",
   "execution_count": null,
   "metadata": {},
   "outputs": [],
   "source": [
    "bookstores_pagination = pd.json_normalize(bookstores_list, sep=\"_\")\n",
    "bookstores_pagination.shape"
   ]
  }
 ],
 "metadata": {
  "kernelspec": {
   "display_name": "Python 3",
   "language": "python",
   "name": "python3"
  },
  "language_info": {
   "codemirror_mode": {
    "name": "ipython",
    "version": 3
   },
   "file_extension": ".py",
   "mimetype": "text/x-python",
   "name": "python",
   "nbconvert_exporter": "python",
   "pygments_lexer": "ipython3",
   "version": "3.8.10"
  },
  "orig_nbformat": 4
 },
 "nbformat": 4,
 "nbformat_minor": 2
}
