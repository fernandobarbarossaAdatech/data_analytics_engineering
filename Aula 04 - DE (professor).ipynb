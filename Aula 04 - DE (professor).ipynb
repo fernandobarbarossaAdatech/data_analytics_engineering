{
 "cells": [
  {
   "cell_type": "markdown",
   "id": "e6e3bf17",
   "metadata": {},
   "source": [
    "## Lendo dados JSON"
   ]
  },
  {
   "cell_type": "code",
   "execution_count": null,
   "id": "5fc26417",
   "metadata": {},
   "outputs": [],
   "source": [
    "import pandas as pd"
   ]
  },
  {
   "cell_type": "code",
   "execution_count": null,
   "id": "56947ca4",
   "metadata": {},
   "outputs": [],
   "source": [
    "path = 'dados/aula4/nyc_death_causes.json'\n",
    "nyc_death_causes = pd.read_json(path)"
   ]
  },
  {
   "cell_type": "code",
   "execution_count": null,
   "id": "045c0469",
   "metadata": {},
   "outputs": [],
   "source": [
    "nyc_death_causes"
   ]
  },
  {
   "cell_type": "markdown",
   "id": "f92b8b75",
   "metadata": {},
   "source": [
    "## Carregando dados de uma API"
   ]
  },
  {
   "cell_type": "markdown",
   "id": "e0af6633",
   "metadata": {},
   "source": [
    "Vamos usar a Yelp API como exemplo \n",
    "https://docs.developer.yelp.com/docs/fusion-intro"
   ]
  },
  {
   "cell_type": "code",
   "execution_count": null,
   "id": "8764b6a3",
   "metadata": {},
   "outputs": [],
   "source": [
    "import requests"
   ]
  },
  {
   "cell_type": "code",
   "execution_count": null,
   "id": "0beeb830",
   "metadata": {},
   "outputs": [],
   "source": [
    "api_url = \"https://api.yelp.com/v3/businesses/search\"\n",
    "\n",
    "params = {\"term\":\"bookstore\",\n",
    "          \"location\":\"San Francisco\"}\n",
    "api_key =  'E75fkz2z6r266cXTaRvTnMSmAuvEq9pqhtsX8oqRxRhP3mJ1wExtiGixZ8wWjNWnX_PgBDtdNoXpm57gWKIxZ0VOZ0emVSC1aOkZFLohRBsiYaxXzHa44-bPZoobZHYx'\n",
    "headers = {\"Authorization\":\"Bearer {}\".format(api_key)}\n",
    "response = requests.get(api_url, params = params, headers=headers)"
   ]
  },
  {
   "cell_type": "code",
   "execution_count": null,
   "id": "57644547",
   "metadata": {},
   "outputs": [],
   "source": [
    "response"
   ]
  },
  {
   "cell_type": "code",
   "execution_count": null,
   "id": "9134b3a0",
   "metadata": {},
   "outputs": [],
   "source": [
    "data = response.json()\n",
    "data"
   ]
  },
  {
   "cell_type": "code",
   "execution_count": null,
   "id": "14f31f8e",
   "metadata": {},
   "outputs": [],
   "source": [
    "bookstores = pd.DataFrame(data['businesses'])\n",
    "bookstores.head()"
   ]
  },
  {
   "cell_type": "markdown",
   "id": "1ad9a206",
   "metadata": {},
   "source": [
    "## Trabalhando com JSONs aninhados"
   ]
  },
  {
   "cell_type": "code",
   "execution_count": null,
   "id": "58c6cfa3",
   "metadata": {
    "scrolled": true
   },
   "outputs": [],
   "source": [
    "bookstores[['categories', 'coordinates', 'location']].head()"
   ]
  },
  {
   "cell_type": "code",
   "execution_count": null,
   "id": "3470daac",
   "metadata": {},
   "outputs": [],
   "source": [
    "bookstores = pd.json_normalize(data['businesses'], sep =\"_\")"
   ]
  },
  {
   "cell_type": "code",
   "execution_count": null,
   "id": "03aaa4ae",
   "metadata": {},
   "outputs": [],
   "source": [
    "type(bookstores['transactions'][0])\n",
    "## snake case coordinates_latitude\n",
    "## camel case CoordinatesLatitude"
   ]
  },
  {
   "cell_type": "markdown",
   "id": "773dc38f",
   "metadata": {},
   "source": [
    "### JSONs profundamente aninhados"
   ]
  },
  {
   "cell_type": "code",
   "execution_count": null,
   "id": "645cb117",
   "metadata": {},
   "outputs": [],
   "source": [
    "df = pd.json_normalize(data['businesses'], \n",
    "                 record_path='categories',\n",
    "                  sep =\"_\",\n",
    "                  meta = ['name', 'alias' , 'rating', ['coordinates', 'latitude'], ['coordinates', 'longitude']],\n",
    "                  meta_prefix = \"business_\"\n",
    "                  )\n",
    "df.head()"
   ]
  },
  {
   "cell_type": "markdown",
   "id": "38ab2675",
   "metadata": {},
   "source": [
    "### Busca paginada\n",
    "\n",
    "Por padrão a yelp api retorna os 20 primeiros items"
   ]
  },
  {
   "cell_type": "markdown",
   "id": "0447c4f6",
   "metadata": {},
   "source": [
    "Pegando as primeiras 20 lojas"
   ]
  },
  {
   "cell_type": "code",
   "execution_count": null,
   "id": "fe61a1c6",
   "metadata": {},
   "outputs": [],
   "source": [
    "params = {\"term\": \"bookstore\",\n",
    "        \"location\":\"San Francisco\"} \n",
    "first_results = requests.get(api_url, headers=headers, params=params).json() \n",
    "first_20_bookstores = pd.json_normalize(first_results[\"businesses\"], sep=\"_\") \n",
    "first_20_bookstores.shape"
   ]
  },
  {
   "cell_type": "markdown",
   "id": "f6f0188b",
   "metadata": {},
   "source": [
    "Pegando as próximas 20 lojas"
   ]
  },
  {
   "cell_type": "code",
   "execution_count": null,
   "id": "cd2d1c86",
   "metadata": {},
   "outputs": [],
   "source": [
    "params['offset'] = 20\n",
    "next_results = requests.get(api_url, headers=headers, params=params).json() \n",
    "next_20_bookstores = pd.json_normalize(next_results[\"businesses\"], sep=\"_\") "
   ]
  },
  {
   "cell_type": "code",
   "execution_count": null,
   "id": "ed44fa03",
   "metadata": {},
   "outputs": [],
   "source": [
    "next_20_bookstores.tail()"
   ]
  },
  {
   "attachments": {},
   "cell_type": "markdown",
   "id": "c4663c68",
   "metadata": {},
   "source": [
    "Pegando as primeiras 40 lojas"
   ]
  },
  {
   "cell_type": "code",
   "execution_count": null,
   "id": "677bbbb6",
   "metadata": {},
   "outputs": [],
   "source": [
    "params ={'term': 'bookstore', \n",
    "         'location': 'San Francisco', \n",
    "         'offset': 40, \n",
    "         'limit': 40}"
   ]
  },
  {
   "cell_type": "code",
   "execution_count": null,
   "id": "7fe269a5",
   "metadata": {},
   "outputs": [],
   "source": [
    "params['limit'] = 40\n",
    "next_results = requests.get(api_url, headers=headers, params=params).json() \n",
    "next_40_bookstores = pd.json_normalize(next_results[\"businesses\"], sep=\"_\") "
   ]
  },
  {
   "cell_type": "code",
   "execution_count": null,
   "id": "028c56f5",
   "metadata": {},
   "outputs": [],
   "source": [
    "next_40_bookstores.shape"
   ]
  },
  {
   "cell_type": "markdown",
   "id": "c5d5a140",
   "metadata": {},
   "source": [
    "### Juntando Dataframes"
   ]
  },
  {
   "cell_type": "code",
   "execution_count": null,
   "id": "50f33502",
   "metadata": {},
   "outputs": [],
   "source": [
    "pd.concat([first_20_bookstores, next_20_bookstores]).reset_index(drop = True).head(1)"
   ]
  },
  {
   "attachments": {},
   "cell_type": "markdown",
   "id": "faac4d6b",
   "metadata": {},
   "source": [
    "### Paginação completa"
   ]
  },
  {
   "cell_type": "code",
   "execution_count": null,
   "id": "5ff3a713",
   "metadata": {},
   "outputs": [],
   "source": []
  }
 ],
 "metadata": {
  "kernelspec": {
   "display_name": "Python 3",
   "language": "python",
   "name": "python3"
  },
  "language_info": {
   "codemirror_mode": {
    "name": "ipython",
    "version": 3
   },
   "file_extension": ".py",
   "mimetype": "text/x-python",
   "name": "python",
   "nbconvert_exporter": "python",
   "pygments_lexer": "ipython3",
   "version": "3.8.10"
  }
 },
 "nbformat": 4,
 "nbformat_minor": 5
}
