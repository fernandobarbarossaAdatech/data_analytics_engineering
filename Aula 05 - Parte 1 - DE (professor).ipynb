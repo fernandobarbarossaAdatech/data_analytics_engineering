{
 "cells": [
  {
   "cell_type": "markdown",
   "id": "b1b3d390",
   "metadata": {},
   "source": [
    "# Great Expectations"
   ]
  },
  {
   "cell_type": "markdown",
   "id": "dba67d1a",
   "metadata": {},
   "source": [
    "## Instalando"
   ]
  },
  {
   "cell_type": "code",
   "execution_count": null,
   "id": "bd789c3e",
   "metadata": {},
   "outputs": [],
   "source": [
    "!pip install --upgrade pandas==1.5.1\n",
    "!pip install great_expectations==0.16.3"
   ]
  },
  {
   "cell_type": "markdown",
   "id": "c54a39cc",
   "metadata": {},
   "source": [
    "## Validando os dados"
   ]
  },
  {
   "cell_type": "markdown",
   "id": "71d88fa1",
   "metadata": {},
   "source": [
    "Validamos o conjunto de dados com a suíte de expectativas. \n",
    "\n",
    "Em seguida, verificamos se a validação foi bem-sucedida verificando o atributo success do objeto ExpectationValidationResult"
   ]
  },
  {
   "cell_type": "markdown",
   "id": "7595c92e",
   "metadata": {},
   "source": [
    "### Validação de valores únicos em uma coluna"
   ]
  },
  {
   "cell_type": "code",
   "execution_count": null,
   "id": "33a43651",
   "metadata": {},
   "outputs": [],
   "source": [
    "import great_expectations as gx \n",
    "import pandas as pd "
   ]
  },
  {
   "cell_type": "code",
   "execution_count": null,
   "id": "6d6bffe6",
   "metadata": {},
   "outputs": [],
   "source": [
    "df = pd.DataFrame({'nome':['João', 'Maria', 'Joaquim', 'Pedro', 'Ana', 'pedro']})"
   ]
  },
  {
   "cell_type": "markdown",
   "id": "cbeb1b3d",
   "metadata": {},
   "source": [
    "Crie uma expectation que verifica se a coluna \"codigo\" contém apenas valores únicos.\n",
    "\n",
    "Use a função ``expect_column_values_to_be_unique`` para definir essa expectativa"
   ]
  },
  {
   "cell_type": "code",
   "execution_count": null,
   "id": "5242cd96",
   "metadata": {},
   "outputs": [],
   "source": [
    "df_gx = gx.dataset.PandasDataset(df)\n",
    "df_gx"
   ]
  },
  {
   "cell_type": "code",
   "execution_count": null,
   "id": "20484aed",
   "metadata": {},
   "outputs": [],
   "source": [
    "validation_result = df_gx.expect_column_values_to_be_unique(column = 'nome')\n",
    "validation_result"
   ]
  },
  {
   "cell_type": "code",
   "execution_count": null,
   "id": "e4a1e31a",
   "metadata": {},
   "outputs": [],
   "source": [
    "if validation_result['success']:\n",
    "    print('A coluna nome contem apenas valores únicos')\n",
    "else:\n",
    "    print('A coluna nome possui valores duplicados')"
   ]
  },
  {
   "cell_type": "code",
   "execution_count": null,
   "id": "e5c3400a",
   "metadata": {},
   "outputs": [],
   "source": [
    "df2 = pd.DataFrame({'codigo':[1001, 1002, 1003, 1006, 1002, 1005, 1003]})\n",
    "df_gx2 = gx.dataset.PandasDataset(df2)\n",
    "df_gx2"
   ]
  },
  {
   "cell_type": "code",
   "execution_count": null,
   "id": "cdb74847",
   "metadata": {},
   "outputs": [],
   "source": [
    "validation_result = df_gx2.expect_column_values_to_be_unique(column = 'codigo')\n",
    "validation_result"
   ]
  },
  {
   "cell_type": "markdown",
   "id": "3530a20b",
   "metadata": {},
   "source": [
    "### Validação de valores mínimos e máximos em uma coluna numérica\n",
    "\n",
    "Use a função ``expect_column_values_to_be_between`` para verificar se a coluna \"idade\" contém apenas valores entre 18 e 65 anos.\n",
    "\n",
    "Passamos os valores mínimo e máximo permitidos como argumentos. Em seguida, validamos o conjunto de dados com a suíte de expectativas e verificamos se a validação foi bem-sucedida.\n"
   ]
  },
  {
   "cell_type": "code",
   "execution_count": null,
   "id": "de1f6bf7",
   "metadata": {},
   "outputs": [],
   "source": [
    "df = pd.DataFrame({'idade': [15, 10, 18, 20, 25, 30, 35, 40, 45, 50, 55, 60, 65, 70, 75, 80, 85, 90, 95, 100, 105]})\n",
    "df"
   ]
  },
  {
   "cell_type": "code",
   "execution_count": null,
   "id": "2c63e919",
   "metadata": {},
   "outputs": [],
   "source": [
    "df_gx3 = gx.dataset.PandasDataset(df)\n",
    "df_gx3"
   ]
  },
  {
   "cell_type": "code",
   "execution_count": null,
   "id": "25b4a130",
   "metadata": {},
   "outputs": [],
   "source": [
    "result = df_gx3.expect_column_values_to_be_between(column = 'idade', min_value = 18, max_value = 65)\n",
    "result"
   ]
  },
  {
   "cell_type": "markdown",
   "id": "c3375e10",
   "metadata": {},
   "source": [
    "### Validação de formatos de data em uma coluna"
   ]
  },
  {
   "cell_type": "code",
   "execution_count": null,
   "id": "9176dd2b",
   "metadata": {},
   "outputs": [],
   "source": [
    "df = pd.DataFrame({'data':['2022-02-02', '2022-01-02', '2022-01-04', '2022-13-04', '2022-01-05', '01-01-2024']})\n",
    "df_gx4 = gx.dataset.PandasDataset(df)"
   ]
  },
  {
   "cell_type": "code",
   "execution_count": null,
   "id": "c54dc25b",
   "metadata": {},
   "outputs": [],
   "source": [
    "dict_ = df_gx4.expect_column_values_to_match_strftime_format(column='data', strftime_format = \"%Y-%m-%d\")"
   ]
  },
  {
   "cell_type": "code",
   "execution_count": null,
   "id": "0667f460",
   "metadata": {},
   "outputs": [],
   "source": [
    "dict_['result']"
   ]
  },
  {
   "cell_type": "markdown",
   "id": "6bcfcf0d",
   "metadata": {},
   "source": [
    "### Validação de valores nulos em uma coluna\n",
    "\n",
    "Criaremos uma Expectation que verifica se a coluna \"salario\" não contém valores nulos"
   ]
  },
  {
   "cell_type": "code",
   "execution_count": null,
   "id": "e9322e0a",
   "metadata": {},
   "outputs": [],
   "source": [
    "df = pd.DataFrame({'salario': [2000, 2500, 3000, None, 4000, 4500]})\n",
    "df_gx5 = gx.dataset.PandasDataset(df)"
   ]
  },
  {
   "cell_type": "code",
   "execution_count": null,
   "id": "9d9921c9",
   "metadata": {},
   "outputs": [],
   "source": [
    "result = df_gx5.expect_column_values_to_not_be_null(column= 'salario')\n",
    "result"
   ]
  },
  {
   "cell_type": "markdown",
   "id": "d203fb8f",
   "metadata": {},
   "source": [
    "### Validação de formatos de string em uma coluna (cpf)\n",
    "\n",
    "Vamos criar uma Expectation que verifica se a coluna \"cpf\" contém apenas CPFs no formato 'XXX.XXX.XXX-XX'. \n",
    "\n",
    "Usaremos a função ``expect_column_values_to_match_regex`` para definir essa expectativa.\n",
    "\n",
    "Para entender o regex você pode utilizar o site: https://regexr.com/3cr6f."
   ]
  },
  {
   "cell_type": "code",
   "execution_count": null,
   "id": "05ed4c58",
   "metadata": {},
   "outputs": [],
   "source": [
    "df = pd.DataFrame({'cpf':['123.456.789-10', '234.345.567.09', '345-578-908.96', '647.456.778-04', 'abc.003.456-02']})\n",
    "df_gx6 = gx.dataset.PandasDataset(df)"
   ]
  },
  {
   "cell_type": "code",
   "execution_count": null,
   "id": "80f6178d",
   "metadata": {},
   "outputs": [],
   "source": [
    "result = df_gx6.expect_column_values_to_match_regex(column='cpf', regex='^\\d{3}.\\d{3}.\\d{3}-\\d{2}')\n",
    "result"
   ]
  },
  {
   "cell_type": "markdown",
   "id": "20106dee",
   "metadata": {},
   "source": [
    "### Validação de formatos de string em uma coluna (email)\n",
    "\n",
    "Vamos criar uma Expectation que verifica se a coluna \"email\" tem um formato esperado.\n",
    "\n",
    "Usaremos a função ``expect_column_values_to_match_regex`` para definir essa expectativa.\n",
    "\n",
    "Para entender o regex você pode utilizar o site: https://regexr.com/3cr6f.\n",
    "\n",
    "Email regex: https://pt.stackoverflow.com/a/276022."
   ]
  },
  {
   "cell_type": "code",
   "execution_count": null,
   "id": "3d858f1d",
   "metadata": {},
   "outputs": [],
   "source": [
    "df = pd.DataFrame(\n",
    "    {\n",
    "        'email': [\n",
    "            'fernando@gmail.com', \n",
    "            'fernando.barbarossa@gmail', \n",
    "            'fernando.barbarossa@ada.tech', \n",
    "            'fernando.barbarossa@ada.tech.br', \n",
    "            'fernando_barbarossa+@ada.tech', \n",
    "            'fernandoBarbarossa+@ada.tech', \n",
    "            'fernando_barbarossa08@itau.com.br',\n",
    "            'fernando_barbarossa08@itau.edu.sp.br',\n",
    "        ]\n",
    "    }\n",
    ")\n",
    "df_gx = gx.dataset.PandasDataset(df)\n",
    "df_gx"
   ]
  },
  {
   "cell_type": "code",
   "execution_count": null,
   "id": "3d5d9d99",
   "metadata": {},
   "outputs": [],
   "source": [
    "result = df_gx.expect_column_values_to_match_regex(column='email', regex='^[\\w+.]+@\\w+\\.\\w{2,}(?:\\.\\w{2})?$')\n",
    "result"
   ]
  },
  {
   "cell_type": "markdown",
   "id": "86bd6d5a",
   "metadata": {},
   "source": [
    "### Validação de contagem de valores em uma coluna\n",
    "\n",
    "\n",
    "Vamos criar um dataframe com uma coluna \"cidade\" e usar a função ``expect_column_unique_value_count_to_be_between`` para definir se a coluna \"cidade\" contém pelo menos 3 ocorrências de cada cidade. \n",
    "\n",
    "Em seguida, passamos um dicionário com os valores esperados de cada cidade e um valor mínimo e máximo de ocorrências permitidas. "
   ]
  },
  {
   "cell_type": "code",
   "execution_count": null,
   "id": "10ed1275",
   "metadata": {},
   "outputs": [],
   "source": [
    "df = pd.DataFrame({'cidade':['São Paulo', 'Rio de Janeiro', 'Belo Horizonte',\n",
    "                             'São Paulo', 'Rio de Janeiro', 'Belo Horizonte',\n",
    "                             'São Paulo', 'Rio de Janeiro', 'Belo Horizonte',\n",
    "                            ]})\n",
    "df_gx = gx.dataset.PandasDataset(df)\n",
    "df_gx"
   ]
  },
  {
   "cell_type": "code",
   "execution_count": null,
   "id": "fe81484c",
   "metadata": {},
   "outputs": [],
   "source": [
    "result = df_gx.expect_column_unique_value_count_to_be_between(column = 'cidade', min_value = 2, max_value = 3)\n",
    "result"
   ]
  },
  {
   "cell_type": "markdown",
   "id": "cb403562",
   "metadata": {},
   "source": [
    "## Expectativas para us_tax_data_2016"
   ]
  },
  {
   "cell_type": "code",
   "execution_count": null,
   "id": "c567d520",
   "metadata": {},
   "outputs": [],
   "source": [
    "df = gx.read_csv('dados/atividade1/us_tax_data_2016.csv')\n",
    "df.head()"
   ]
  },
  {
   "cell_type": "markdown",
   "id": "61e7241e",
   "metadata": {},
   "source": [
    "### Definindo expectativas dos dados us_tax_data_2016"
   ]
  },
  {
   "cell_type": "markdown",
   "id": "a7ccd621",
   "metadata": {},
   "source": [
    "``expect_column_values_to_be_in_set`` agi_stub"
   ]
  },
  {
   "cell_type": "code",
   "execution_count": null,
   "id": "40f986a5",
   "metadata": {},
   "outputs": [],
   "source": [
    "df['agi_stub'].unique()"
   ]
  },
  {
   "cell_type": "code",
   "execution_count": null,
   "id": "d16ff0ca",
   "metadata": {},
   "outputs": [],
   "source": [
    "df.expect_column_values_to_be_in_set('agi_stub', [1,2,3,4], mostly = .66)"
   ]
  },
  {
   "cell_type": "markdown",
   "id": "70d04d40",
   "metadata": {},
   "source": [
    "``expect_column_values_to_be_in_set`` zip code zeros"
   ]
  },
  {
   "cell_type": "code",
   "execution_count": null,
   "id": "d92c3948",
   "metadata": {},
   "outputs": [],
   "source": [
    "df.loc[df['zipcode']==0]"
   ]
  },
  {
   "cell_type": "code",
   "execution_count": null,
   "id": "4af42af6",
   "metadata": {},
   "outputs": [],
   "source": [
    "6/3001"
   ]
  },
  {
   "cell_type": "code",
   "execution_count": null,
   "id": "98a40994",
   "metadata": {},
   "outputs": [],
   "source": [
    "df.expect_column_values_to_be_in_set('zipcode', [0], .001)"
   ]
  },
  {
   "cell_type": "markdown",
   "id": "aea83864",
   "metadata": {},
   "source": [
    "``expect_column_to_exist`` mars columns"
   ]
  },
  {
   "cell_type": "code",
   "execution_count": null,
   "id": "b9b0ea4f",
   "metadata": {},
   "outputs": [],
   "source": []
  },
  {
   "attachments": {},
   "cell_type": "markdown",
   "id": "ee07d979",
   "metadata": {},
   "source": [
    "### Obtendo as Expectativas"
   ]
  },
  {
   "cell_type": "code",
   "execution_count": null,
   "id": "d4179bd6",
   "metadata": {},
   "outputs": [],
   "source": []
  },
  {
   "cell_type": "markdown",
   "id": "948c5a32",
   "metadata": {},
   "source": [
    "Por padrão, ``get_expectation_suite()`` retorna apenas Expectations com ``success=True``. \n",
    "\n",
    "Você pode substituir esse comportamento com:"
   ]
  },
  {
   "cell_type": "code",
   "execution_count": null,
   "id": "c3991391",
   "metadata": {},
   "outputs": [],
   "source": []
  },
  {
   "cell_type": "markdown",
   "id": "1a934559",
   "metadata": {},
   "source": [
    "### Salve sua suíte Expectation"
   ]
  },
  {
   "cell_type": "code",
   "execution_count": null,
   "id": "bb31e1eb",
   "metadata": {},
   "outputs": [],
   "source": []
  }
 ],
 "metadata": {
  "kernelspec": {
   "display_name": "Python 3",
   "language": "python",
   "name": "python3"
  },
  "language_info": {
   "codemirror_mode": {
    "name": "ipython",
    "version": 3
   },
   "file_extension": ".py",
   "mimetype": "text/x-python",
   "name": "python",
   "nbconvert_exporter": "python",
   "pygments_lexer": "ipython3",
   "version": "3.8.10"
  }
 },
 "nbformat": 4,
 "nbformat_minor": 5
}
