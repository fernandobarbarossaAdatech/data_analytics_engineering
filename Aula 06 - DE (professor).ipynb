{
 "cells": [
  {
   "cell_type": "markdown",
   "id": "3a768b4e",
   "metadata": {},
   "source": [
    "# Desafio"
   ]
  },
  {
   "cell_type": "markdown",
   "id": "a862226f",
   "metadata": {},
   "source": [
    "* Utilizando a bibliteca faker crie 1000 registro com o método fake.profile()\n",
    "* Normalize as respostas em uma dataframe\n",
    "* Crie a coluna idade: \"2023\" - \"ano de nascimento\"\n",
    "* Com base na idade validade quantas pessoas estão dentro da população ativa (entre 18 anos e 65 anos)\n",
    "* Valide os emails utilizando o regex visto em aula"
   ]
  },
  {
   "cell_type": "code",
   "execution_count": null,
   "id": "3bbdf4d6",
   "metadata": {},
   "outputs": [],
   "source": [
    "from datetime import datetime\n",
    "from faker import Faker\n",
    "import pandas as pd\n",
    "import great_expectations as gx\n",
    "fake = Faker('pt_BR')"
   ]
  },
  {
   "cell_type": "code",
   "execution_count": null,
   "id": "4362f65c",
   "metadata": {},
   "outputs": [],
   "source": [
    "profile_df = pd.json_normalize([fake.profile() for i in range(1000)])"
   ]
  },
  {
   "cell_type": "code",
   "execution_count": null,
   "id": "bcd0d975",
   "metadata": {},
   "outputs": [],
   "source": [
    "profile_df[\"today_year\"] = datetime.now().date().year"
   ]
  },
  {
   "cell_type": "code",
   "execution_count": null,
   "id": "643694b5",
   "metadata": {},
   "outputs": [],
   "source": [
    "datetime.now().date().year"
   ]
  },
  {
   "cell_type": "code",
   "execution_count": null,
   "id": "fb0281e5",
   "metadata": {},
   "outputs": [],
   "source": [
    "profile_df[\"today_year\"]"
   ]
  },
  {
   "cell_type": "code",
   "execution_count": null,
   "id": "cbbff2e1",
   "metadata": {},
   "outputs": [],
   "source": [
    "profile_df[\"age\"] = profile_df[\"today_year\"] - pd.to_datetime(profile_df[\"birthdate\"]).dt.year"
   ]
  },
  {
   "cell_type": "code",
   "execution_count": null,
   "id": "fc5412c7",
   "metadata": {},
   "outputs": [],
   "source": [
    "profile_df_gx = gx.dataset.PandasDataset(profile_df)"
   ]
  },
  {
   "cell_type": "code",
   "execution_count": null,
   "id": "4d1941c8",
   "metadata": {},
   "outputs": [],
   "source": [
    "result = profile_df_gx.expect_column_values_to_be_between(column='age', min_value=18, max_value=65)\n",
    "result"
   ]
  },
  {
   "cell_type": "code",
   "execution_count": null,
   "id": "4d8e174e",
   "metadata": {},
   "outputs": [],
   "source": [
    "result_email = profile_df_gx.expect_column_values_to_match_regex(column='mail', regex='^[\\w+.]+@\\w+\\.\\w{2,}(?:\\.\\w{2})?$')\n",
    "result_email"
   ]
  },
  {
   "attachments": {},
   "cell_type": "markdown",
   "id": "20f9070d",
   "metadata": {},
   "source": [
    "# Aula 06"
   ]
  },
  {
   "cell_type": "markdown",
   "id": "0635271a",
   "metadata": {},
   "source": [
    "![Great Expectation](https://docs.greatexpectations.io/assets/images/data_context_does_for_you-df2eca32d0152ead16cccd5d3d226abb.png)"
   ]
  },
  {
   "cell_type": "markdown",
   "id": "18a6398a",
   "metadata": {},
   "source": [
    "## Instanciando um Contexto de Dados\n",
    "\n",
    "Obteremos um objeto DataContext com o seguinte código:"
   ]
  },
  {
   "cell_type": "code",
   "execution_count": null,
   "id": "47030a2a",
   "metadata": {},
   "outputs": [],
   "source": [
    "import great_expectations as gx\n",
    "\n",
    "context = gx.get_context()"
   ]
  },
  {
   "cell_type": "markdown",
   "id": "754e42ee",
   "metadata": {},
   "source": [
    "## Verificando o conteúdo do contexto de dados\n",
    "Podemos garantir que o Data Context foi instanciado corretamente imprimindo seu conteúdo."
   ]
  },
  {
   "cell_type": "code",
   "execution_count": null,
   "id": "943809bb",
   "metadata": {},
   "outputs": [],
   "source": [
    "context"
   ]
  },
  {
   "attachments": {},
   "cell_type": "markdown",
   "id": "e931e040",
   "metadata": {},
   "source": [
    "### Salvando o contexto de dados para uso futuro (rodar apenas uma vez)\n",
    "Como não inicializamos anteriormente um Contexto de dados do sistema de arquivos ou especificamos um caminho para criar um, o Contexto de dados que recebemos de gx.get_context() era um Contexto de dados efêmero temporário na memória. \n",
    "\n",
    "Para salvar este Contexto de Dados para uso futuro, vamos convertê-lo em um Contexto de Dados do Sistema de Arquivos:"
   ]
  },
  {
   "cell_type": "markdown",
   "id": "1ad266e3",
   "metadata": {},
   "source": [
    "Você pode fornecer o caminho para uma pasta específica ao converter seu contexto de dados efêmeros em um contexto de dados do sistema de arquivos.\n",
    "Se você fizer isso, seu contexto de dados do sistema de arquivos será inicializado nesse local. \n",
    "Caso contrário, seu novo contexto de dados do sistema de arquivos será inicializado na pasta em que seu script é executado."
   ]
  },
  {
   "cell_type": "code",
   "execution_count": null,
   "id": "e2e8a424",
   "metadata": {},
   "outputs": [],
   "source": [
    "context.convert_to_file_context()"
   ]
  },
  {
   "cell_type": "markdown",
   "id": "a0b809d8",
   "metadata": {},
   "source": [
    "## 2. Conectando aos dados\n",
    "Nos conectaremos aos dados .csv armazenados em nosso repositório:"
   ]
  },
  {
   "cell_type": "code",
   "execution_count": null,
   "id": "6eebd0d9",
   "metadata": {},
   "outputs": [],
   "source": [
    "validator = context.sources.pandas_default.read_csv(\n",
    "    'dados/atividade1/us_tax_data_2016.csv'\n",
    ")"
   ]
  },
  {
   "cell_type": "code",
   "execution_count": null,
   "id": "67f3ca84",
   "metadata": {},
   "outputs": [],
   "source": [
    "validator.head()\n"
   ]
  },
  {
   "cell_type": "markdown",
   "id": "21f9b3de",
   "metadata": {},
   "source": [
    "## 3. Criando Expectativas\n",
    "\n",
    "Quando lemos nossos dados .csv, recebemos uma instância do __Validator__ de volta. \n",
    "\n",
    "Um __Validador__ é um objeto capaz de armazenar Expectativas sobre os dados aos quais está associado, bem como realizar introspecções sobre esses dados.\n",
    "\n",
    "A seguir definiremos algumas Expectations.\n",
    "\n",
    "Com a Expectation definida abaixo, estamos afirmando que esperamos que a coluna ``agi_stub`` seja sempre preenchida. \n",
    "\n",
    "Ou seja: nenhum dos valores da coluna deve ser nulo."
   ]
  },
  {
   "cell_type": "code",
   "execution_count": null,
   "id": "5eded145",
   "metadata": {},
   "outputs": [],
   "source": [
    "validator.expect_column_values_to_not_be_null('agi_stub')"
   ]
  },
  {
   "cell_type": "markdown",
   "id": "3db6faf0",
   "metadata": {},
   "source": [
    "## 4. Validando os dados\n",
    "\n",
    "### 4.1 Executando as Expectativas definidas\n",
    "Agora que definimos nossas expectativas, é hora do GX fazer uma introspecção de nossos dados e ver se eles correspondem ao que dissemos a GX para esperar. Para isso, definimos um Checkpoint (que nos permitirá repetir a Validação no futuro)."
   ]
  },
  {
   "cell_type": "code",
   "execution_count": null,
   "id": "0a87b356",
   "metadata": {},
   "outputs": [],
   "source": [
    "checkpoint = gx.checkpoint.SimpleCheckpoint(\n",
    "    name = \"my_quickstart_checkpoint\",\n",
    "    data_context = context,\n",
    "    validator = validator\n",
    ")"
   ]
  },
  {
   "cell_type": "markdown",
   "id": "10ab059d",
   "metadata": {},
   "source": [
    "Uma vez criado o Checkpoint, vamos executá-lo e receber de volta os resultados da nossa Validação."
   ]
  },
  {
   "cell_type": "code",
   "execution_count": null,
   "id": "76d53d2e",
   "metadata": {},
   "outputs": [],
   "source": [
    "checkpoint_result = checkpoint.run()"
   ]
  },
  {
   "cell_type": "code",
   "execution_count": null,
   "id": "e50ef26b",
   "metadata": {},
   "outputs": [],
   "source": [
    "checkpoint_result"
   ]
  },
  {
   "cell_type": "markdown",
   "id": "f2fe7ef2",
   "metadata": {},
   "source": [
    "### 4.2 Visualizando os resultados\n",
    "O Great Expectations fornece uma maneira amigável e legível por humanos de visualizar os resultados de Validations: Data Docs. \n",
    "\n",
    "Nosso Checkpoint terá compilado automaticamente novos Data Docs para incluir os resultados da validação que executamos, para que possamos visualizá-los imediatamente:"
   ]
  },
  {
   "cell_type": "code",
   "execution_count": null,
   "id": "9475041f",
   "metadata": {},
   "outputs": [],
   "source": [
    "context.build_data_docs()"
   ]
  },
  {
   "cell_type": "code",
   "execution_count": null,
   "id": "cd0f486a",
   "metadata": {},
   "outputs": [],
   "source": [
    "context.open_data_docs()"
   ]
  },
  {
   "cell_type": "code",
   "execution_count": null,
   "id": "a6153bf2",
   "metadata": {},
   "outputs": [],
   "source": [
    "context.convert_to_file_context()"
   ]
  }
 ],
 "metadata": {
  "kernelspec": {
   "display_name": "Python 3",
   "language": "python",
   "name": "python3"
  },
  "language_info": {
   "codemirror_mode": {
    "name": "ipython",
    "version": 3
   },
   "file_extension": ".py",
   "mimetype": "text/x-python",
   "name": "python",
   "nbconvert_exporter": "python",
   "pygments_lexer": "ipython3",
   "version": "3.8.10"
  }
 },
 "nbformat": 4,
 "nbformat_minor": 5
}
