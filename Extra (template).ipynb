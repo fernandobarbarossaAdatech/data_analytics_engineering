{
 "cells": [
  {
   "attachments": {},
   "cell_type": "markdown",
   "metadata": {},
   "source": [
    "# POO"
   ]
  },
  {
   "attachments": {},
   "cell_type": "markdown",
   "metadata": {},
   "source": [
    "## Referências Classes"
   ]
  },
  {
   "attachments": {},
   "cell_type": "markdown",
   "metadata": {},
   "source": [
    "### Documentação mais direta\n",
    "\n",
    "[Blob Post - Python Academy](https://pythonacademy.com.br/blog/introducao-a-programacao-orientada-a-objetos-no-python)\n",
    "\n",
    "[Playlist de POO - Curso](https://www.youtube.com/playlist?list=PLHz_AreHm4dkqe2aR0tQK74m8SFe-aGsY)\n",
    "\n",
    "### Documentação mais técnica\n",
    "\n",
    "[Classes Documentação do Python](https://docs.python.org/3.11/tutorial/classes.html)\n",
    "\n",
    "[Playlist - Corey Schafer](https://www.youtube.com/playlist?list=PL-osiE80TeTsqhIuOqKhwlXsIBIdSeYtc)"
   ]
  },
  {
   "attachments": {},
   "cell_type": "markdown",
   "metadata": {},
   "source": [
    "## Prática"
   ]
  },
  {
   "attachments": {},
   "cell_type": "markdown",
   "metadata": {},
   "source": [
    "### Classe e Objeto\n",
    "\n",
    "- Classe: descrição do tipo de dado\n",
    "- Objeto: uma instância isolada"
   ]
  },
  {
   "cell_type": "code",
   "execution_count": null,
   "metadata": {},
   "outputs": [],
   "source": []
  },
  {
   "attachments": {},
   "cell_type": "markdown",
   "metadata": {},
   "source": [
    "### Atributos e Métodos\n",
    "\n",
    "- Atributos: estado do objeto"
   ]
  },
  {
   "cell_type": "code",
   "execution_count": null,
   "metadata": {},
   "outputs": [],
   "source": []
  },
  {
   "attachments": {},
   "cell_type": "markdown",
   "metadata": {},
   "source": [
    "- Métodos: ações\n",
    "  - self: quando um método altera o próprio objeto"
   ]
  },
  {
   "cell_type": "code",
   "execution_count": null,
   "metadata": {},
   "outputs": [],
   "source": []
  },
  {
   "attachments": {},
   "cell_type": "markdown",
   "metadata": {},
   "source": [
    "- Métodos: ações\n",
    "  - static: quando um método não altera o próprio objeto"
   ]
  },
  {
   "cell_type": "code",
   "execution_count": null,
   "metadata": {},
   "outputs": [],
   "source": []
  },
  {
   "attachments": {},
   "cell_type": "markdown",
   "metadata": {},
   "source": [
    "### Encapsulamento\n",
    "\n",
    "Isolamento\n",
    "\n",
    "- Modificação de um objeto não altera outro objeto"
   ]
  },
  {
   "cell_type": "code",
   "execution_count": null,
   "metadata": {},
   "outputs": [],
   "source": []
  },
  {
   "attachments": {},
   "cell_type": "markdown",
   "metadata": {},
   "source": [
    "### Abstração\n",
    "\n",
    "- Desconsiderar atributos e métodos do mundo exterior não necessários a nossa lógica\n",
    "- Não é necessário conhecer a lógica interna (ex.: read_csv)"
   ]
  },
  {
   "cell_type": "code",
   "execution_count": null,
   "metadata": {},
   "outputs": [],
   "source": []
  },
  {
   "attachments": {},
   "cell_type": "markdown",
   "metadata": {},
   "source": [
    "### Herança\n",
    "\n",
    "* Métodos e atributos são herdados\n",
    "\n",
    "\n",
    "#### Polimorfismo\n",
    "\n",
    "* Poli (várias) morfos (formas): um mesmo método possui implementações diferentes"
   ]
  },
  {
   "cell_type": "code",
   "execution_count": null,
   "metadata": {},
   "outputs": [],
   "source": []
  },
  {
   "attachments": {},
   "cell_type": "markdown",
   "metadata": {},
   "source": [
    "# APIs"
   ]
  },
  {
   "attachments": {},
   "cell_type": "markdown",
   "metadata": {},
   "source": [
    "[Graph API Instagram - Token](https://developers.facebook.com/docs/instagram-api/getting-started)"
   ]
  },
  {
   "attachments": {},
   "cell_type": "markdown",
   "metadata": {},
   "source": [
    "[Graph API Instagram - Token de Longa Duração](https://developers.facebook.com/docs/facebook-login/guides/access-tokens/get-long-lived/#obter-um-token-de-longa-dura--o-para-acesso-de-acesso-do-usu-rio)"
   ]
  },
  {
   "attachments": {},
   "cell_type": "markdown",
   "metadata": {},
   "source": [
    "[Graph API Instagram - Debug Token](https://developers.facebook.com/docs/graph-api/reference/v16.0/debug_token)"
   ]
  }
 ],
 "metadata": {
  "kernelspec": {
   "display_name": "Python 3",
   "language": "python",
   "name": "python3"
  },
  "language_info": {
   "codemirror_mode": {
    "name": "ipython",
    "version": 3
   },
   "file_extension": ".py",
   "mimetype": "text/x-python",
   "name": "python",
   "nbconvert_exporter": "python",
   "pygments_lexer": "ipython3",
   "version": "3.8.10"
  },
  "orig_nbformat": 4
 },
 "nbformat": 4,
 "nbformat_minor": 2
}
