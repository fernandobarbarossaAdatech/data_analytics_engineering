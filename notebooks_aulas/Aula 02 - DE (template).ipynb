{
 "cells": [
  {
   "cell_type": "markdown",
   "id": "encouraging-liechtenstein",
   "metadata": {},
   "source": [
    "# Aula 02"
   ]
  },
  {
   "cell_type": "markdown",
   "id": "diagnostic-business",
   "metadata": {},
   "source": [
    "## Instalando as bibliotecas necessárias\n",
    "\n",
    "Antes de começar, precisamos importar as bibliotecas necessárias"
   ]
  },
  {
   "cell_type": "code",
   "execution_count": null,
   "id": "9a36a5c8",
   "metadata": {},
   "outputs": [],
   "source": [
    "!pip install pandas\n",
    "!pip install Faker"
   ]
  },
  {
   "cell_type": "markdown",
   "id": "alternate-candidate",
   "metadata": {},
   "source": [
    "## Modelagem de tabelas especializadas com dados agrupados e/ou sumarizados."
   ]
  },
  {
   "cell_type": "code",
   "execution_count": null,
   "id": "84af9082",
   "metadata": {},
   "outputs": [],
   "source": []
  },
  {
   "attachments": {},
   "cell_type": "markdown",
   "id": "9f50049d",
   "metadata": {},
   "source": [
    "### Criando um dataset manualmente"
   ]
  },
  {
   "cell_type": "code",
   "execution_count": null,
   "id": "220e7a8c",
   "metadata": {},
   "outputs": [],
   "source": []
  },
  {
   "attachments": {},
   "cell_type": "markdown",
   "id": "f19ab308",
   "metadata": {},
   "source": [
    "### Criando um dataset fake"
   ]
  },
  {
   "cell_type": "code",
   "execution_count": null,
   "id": "11fec4e9",
   "metadata": {},
   "outputs": [],
   "source": []
  },
  {
   "attachments": {},
   "cell_type": "markdown",
   "id": "c78de5b1",
   "metadata": {},
   "source": [
    "### Com o seguinte dataset realize as operações a seguir:\n",
    "\n",
    "Fonte de dados: https://www.kaggle.com/datasets/dgoenrique/disney-movies-and-tv-shows\n",
    "\n",
    "- Mostrar o resumo dos dados\n",
    "\n",
    "- Exibir o total de valores nulos para cada coluna\n",
    "\n",
    "- Exibir o total de duplicados"
   ]
  },
  {
   "cell_type": "code",
   "execution_count": null,
   "id": "4fdd4e4a",
   "metadata": {},
   "outputs": [],
   "source": []
  },
  {
   "attachments": {},
   "cell_type": "markdown",
   "id": "31351e98",
   "metadata": {},
   "source": [
    "### Harmonizando dados\n",
    "\n",
    "- Fonte de dados: https://www.imdb.com/interfaces/\n",
    "- Repositório: `dados/harmonizacao/rating_data.tsv`"
   ]
  },
  {
   "cell_type": "code",
   "execution_count": null,
   "id": "6174f2dd",
   "metadata": {},
   "outputs": [],
   "source": []
  }
 ],
 "metadata": {
  "kernelspec": {
   "display_name": "Python 3",
   "language": "python",
   "name": "python3"
  },
  "language_info": {
   "codemirror_mode": {
    "name": "ipython",
    "version": 3
   },
   "file_extension": ".py",
   "mimetype": "text/x-python",
   "name": "python",
   "nbconvert_exporter": "python",
   "pygments_lexer": "ipython3",
   "version": "3.8.10"
  }
 },
 "nbformat": 4,
 "nbformat_minor": 5
}
