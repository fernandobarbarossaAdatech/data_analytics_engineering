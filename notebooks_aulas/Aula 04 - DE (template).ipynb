{
 "cells": [
  {
   "cell_type": "markdown",
   "id": "e6e3bf17",
   "metadata": {},
   "source": [
    "## Lendo dados JSON"
   ]
  },
  {
   "cell_type": "code",
   "execution_count": null,
   "id": "d3e8a79c",
   "metadata": {},
   "outputs": [],
   "source": []
  },
  {
   "cell_type": "markdown",
   "id": "f92b8b75",
   "metadata": {},
   "source": [
    "## Carregando dados de uma API"
   ]
  },
  {
   "cell_type": "markdown",
   "id": "e0af6633",
   "metadata": {},
   "source": [
    "Vamos usar a Yelp API como exemplo \n",
    "https://docs.developer.yelp.com/docs/fusion-intro"
   ]
  },
  {
   "cell_type": "code",
   "execution_count": null,
   "id": "8764b6a3",
   "metadata": {},
   "outputs": [],
   "source": []
  },
  {
   "cell_type": "markdown",
   "id": "1ad9a206",
   "metadata": {},
   "source": [
    "## Trabalhando com JSONs aninhados"
   ]
  },
  {
   "cell_type": "code",
   "execution_count": null,
   "id": "58c6cfa3",
   "metadata": {
    "scrolled": true
   },
   "outputs": [],
   "source": []
  },
  {
   "cell_type": "markdown",
   "id": "773dc38f",
   "metadata": {},
   "source": [
    "### JSONs profundamente aninhados"
   ]
  },
  {
   "cell_type": "code",
   "execution_count": null,
   "id": "645cb117",
   "metadata": {},
   "outputs": [],
   "source": []
  },
  {
   "cell_type": "markdown",
   "id": "38ab2675",
   "metadata": {},
   "source": [
    "### Busca paginada\n",
    "\n",
    "Por padrão a yelp api retorna os 20 primeiros items"
   ]
  },
  {
   "cell_type": "markdown",
   "id": "0447c4f6",
   "metadata": {},
   "source": [
    "Pegando as primeiras 20 lojas"
   ]
  },
  {
   "cell_type": "code",
   "execution_count": null,
   "id": "fe61a1c6",
   "metadata": {},
   "outputs": [],
   "source": []
  },
  {
   "cell_type": "markdown",
   "id": "f6f0188b",
   "metadata": {},
   "source": [
    "Pegando as próximas 20 lojas"
   ]
  },
  {
   "cell_type": "code",
   "execution_count": null,
   "id": "cd2d1c86",
   "metadata": {},
   "outputs": [],
   "source": []
  },
  {
   "attachments": {},
   "cell_type": "markdown",
   "id": "c4663c68",
   "metadata": {},
   "source": [
    "Pegando as primeiras 40 lojas"
   ]
  },
  {
   "cell_type": "code",
   "execution_count": null,
   "id": "7fe269a5",
   "metadata": {},
   "outputs": [],
   "source": []
  },
  {
   "cell_type": "markdown",
   "id": "c5d5a140",
   "metadata": {},
   "source": [
    "### Juntando Dataframes"
   ]
  },
  {
   "cell_type": "code",
   "execution_count": null,
   "id": "50f33502",
   "metadata": {},
   "outputs": [],
   "source": []
  },
  {
   "attachments": {},
   "cell_type": "markdown",
   "id": "faac4d6b",
   "metadata": {},
   "source": [
    "### Paginação completa"
   ]
  },
  {
   "cell_type": "code",
   "execution_count": null,
   "id": "5ff3a713",
   "metadata": {},
   "outputs": [],
   "source": []
  }
 ],
 "metadata": {
  "kernelspec": {
   "display_name": "Python 3",
   "language": "python",
   "name": "python3"
  },
  "language_info": {
   "codemirror_mode": {
    "name": "ipython",
    "version": 3
   },
   "file_extension": ".py",
   "mimetype": "text/x-python",
   "name": "python",
   "nbconvert_exporter": "python",
   "pygments_lexer": "ipython3",
   "version": "3.9.1"
  }
 },
 "nbformat": 4,
 "nbformat_minor": 5
}
