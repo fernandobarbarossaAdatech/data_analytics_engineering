{
 "cells": [
  {
   "cell_type": "markdown",
   "id": "b1b3d390",
   "metadata": {},
   "source": [
    "# Great Expectations"
   ]
  },
  {
   "cell_type": "markdown",
   "id": "dba67d1a",
   "metadata": {},
   "source": [
    "## Instalando"
   ]
  },
  {
   "cell_type": "code",
   "execution_count": null,
   "id": "bd789c3e",
   "metadata": {},
   "outputs": [],
   "source": [
    "!pip install --upgrade pandas==1.5.1\n",
    "!pip install great_expectations==0.16.3"
   ]
  },
  {
   "cell_type": "markdown",
   "id": "c54a39cc",
   "metadata": {},
   "source": [
    "## Validando os dados"
   ]
  },
  {
   "cell_type": "markdown",
   "id": "71d88fa1",
   "metadata": {},
   "source": [
    "Validamos o conjunto de dados com a suíte de expectativas. \n",
    "\n",
    "Em seguida, verificamos se a validação foi bem-sucedida verificando o atributo success do objeto ExpectationValidationResult"
   ]
  },
  {
   "cell_type": "markdown",
   "id": "7595c92e",
   "metadata": {},
   "source": [
    "### Validação de valores únicos em uma coluna"
   ]
  },
  {
   "cell_type": "code",
   "execution_count": null,
   "id": "33a43651",
   "metadata": {},
   "outputs": [],
   "source": []
  },
  {
   "cell_type": "markdown",
   "id": "cbeb1b3d",
   "metadata": {},
   "source": [
    "Crie uma expectation que verifica se a coluna \"codigo\" contém apenas valores únicos.\n",
    "\n",
    "Use a função ``expect_column_values_to_be_unique`` para definir essa expectativa"
   ]
  },
  {
   "cell_type": "code",
   "execution_count": null,
   "id": "5242cd96",
   "metadata": {},
   "outputs": [],
   "source": []
  },
  {
   "cell_type": "markdown",
   "id": "3530a20b",
   "metadata": {},
   "source": [
    "### Validação de valores mínimos e máximos em uma coluna numérica\n",
    "\n",
    "Use a função ``expect_column_values_to_be_between`` para verificar se a coluna \"idade\" contém apenas valores entre 18 e 65 anos.\n",
    "\n",
    "Passamos os valores mínimo e máximo permitidos como argumentos. Em seguida, validamos o conjunto de dados com a suíte de expectativas e verificamos se a validação foi bem-sucedida.\n"
   ]
  },
  {
   "cell_type": "code",
   "execution_count": null,
   "id": "de1f6bf7",
   "metadata": {},
   "outputs": [],
   "source": []
  },
  {
   "cell_type": "markdown",
   "id": "c3375e10",
   "metadata": {},
   "source": [
    "### Validação de formatos de data em uma coluna"
   ]
  },
  {
   "cell_type": "code",
   "execution_count": null,
   "id": "9176dd2b",
   "metadata": {},
   "outputs": [],
   "source": []
  },
  {
   "cell_type": "markdown",
   "id": "6bcfcf0d",
   "metadata": {},
   "source": [
    "### Validação de valores nulos em uma coluna\n",
    "\n",
    "Criaremos uma Expectation que verifica se a coluna \"salario\" não contém valores nulos"
   ]
  },
  {
   "cell_type": "code",
   "execution_count": null,
   "id": "e9322e0a",
   "metadata": {},
   "outputs": [],
   "source": []
  },
  {
   "cell_type": "markdown",
   "id": "d203fb8f",
   "metadata": {},
   "source": [
    "### Validação de formatos de string em uma coluna (cpf)\n",
    "\n",
    "Vamos criar uma Expectation que verifica se a coluna \"cpf\" contém apenas CPFs no formato 'XXX.XXX.XXX-XX'. \n",
    "\n",
    "Usaremos a função ``expect_column_values_to_match_regex`` para definir essa expectativa.\n",
    "\n",
    "Para entender o regex você pode utilizar o site: https://regexr.com/3cr6f."
   ]
  },
  {
   "cell_type": "code",
   "execution_count": null,
   "id": "05ed4c58",
   "metadata": {},
   "outputs": [],
   "source": []
  },
  {
   "cell_type": "markdown",
   "id": "20106dee",
   "metadata": {},
   "source": [
    "### Validação de formatos de string em uma coluna (email)\n",
    "\n",
    "Vamos criar uma Expectation que verifica se a coluna \"email\" tem um formato esperado.\n",
    "\n",
    "Usaremos a função ``expect_column_values_to_match_regex`` para definir essa expectativa.\n",
    "\n",
    "Para entender o regex você pode utilizar o site: https://regexr.com/3cr6f.\n",
    "\n",
    "Email regex: https://pt.stackoverflow.com/a/276022."
   ]
  },
  {
   "cell_type": "code",
   "execution_count": null,
   "id": "3d858f1d",
   "metadata": {},
   "outputs": [],
   "source": []
  },
  {
   "cell_type": "markdown",
   "id": "86bd6d5a",
   "metadata": {},
   "source": [
    "### Validação de contagem de valores em uma coluna\n",
    "\n",
    "\n",
    "Vamos criar um dataframe com uma coluna \"cidade\" e usar a função ``expect_column_unique_value_count_to_be_between`` para definir se a coluna \"cidade\" contém pelo menos 3 ocorrências de cada cidade. \n",
    "\n",
    "Em seguida, passamos um dicionário com os valores esperados de cada cidade e um valor mínimo e máximo de ocorrências permitidas. "
   ]
  },
  {
   "cell_type": "code",
   "execution_count": null,
   "id": "10ed1275",
   "metadata": {},
   "outputs": [],
   "source": []
  },
  {
   "cell_type": "markdown",
   "id": "cb403562",
   "metadata": {},
   "source": [
    "## Expectativas para us_tax_data_2016"
   ]
  },
  {
   "cell_type": "code",
   "execution_count": null,
   "id": "c567d520",
   "metadata": {},
   "outputs": [],
   "source": []
  },
  {
   "cell_type": "markdown",
   "id": "61e7241e",
   "metadata": {},
   "source": [
    "### Definindo expectativas dos dados us_tax_data_2016"
   ]
  },
  {
   "cell_type": "markdown",
   "id": "a7ccd621",
   "metadata": {},
   "source": [
    "``expect_column_values_to_be_in_set`` agi_stub"
   ]
  },
  {
   "cell_type": "code",
   "execution_count": null,
   "id": "40f986a5",
   "metadata": {},
   "outputs": [],
   "source": []
  },
  {
   "cell_type": "markdown",
   "id": "70d04d40",
   "metadata": {},
   "source": [
    "``expect_column_values_to_be_in_set`` zip code zeros"
   ]
  },
  {
   "cell_type": "code",
   "execution_count": null,
   "id": "d92c3948",
   "metadata": {},
   "outputs": [],
   "source": []
  },
  {
   "cell_type": "markdown",
   "id": "aea83864",
   "metadata": {},
   "source": [
    "``expect_column_to_exist`` mars columns"
   ]
  },
  {
   "cell_type": "code",
   "execution_count": null,
   "id": "b9b0ea4f",
   "metadata": {},
   "outputs": [],
   "source": []
  },
  {
   "attachments": {},
   "cell_type": "markdown",
   "id": "ee07d979",
   "metadata": {},
   "source": [
    "### Obtendo as Expectativas"
   ]
  },
  {
   "cell_type": "code",
   "execution_count": null,
   "id": "d4179bd6",
   "metadata": {},
   "outputs": [],
   "source": []
  },
  {
   "cell_type": "markdown",
   "id": "948c5a32",
   "metadata": {},
   "source": [
    "Por padrão, ``get_expectation_suite()`` retorna apenas Expectations com ``success=True``. \n",
    "\n",
    "Você pode substituir esse comportamento com:"
   ]
  },
  {
   "cell_type": "code",
   "execution_count": null,
   "id": "c3991391",
   "metadata": {},
   "outputs": [],
   "source": []
  },
  {
   "cell_type": "markdown",
   "id": "1a934559",
   "metadata": {},
   "source": [
    "### Salve sua suíte Expectation"
   ]
  },
  {
   "cell_type": "code",
   "execution_count": null,
   "id": "bb31e1eb",
   "metadata": {},
   "outputs": [],
   "source": []
  }
 ],
 "metadata": {
  "kernelspec": {
   "display_name": "Python 3",
   "language": "python",
   "name": "python3"
  },
  "language_info": {
   "codemirror_mode": {
    "name": "ipython",
    "version": 3
   },
   "file_extension": ".py",
   "mimetype": "text/x-python",
   "name": "python",
   "nbconvert_exporter": "python",
   "pygments_lexer": "ipython3",
   "version": "3.8.10"
  }
 },
 "nbformat": 4,
 "nbformat_minor": 5
}
