{
 "cells": [
  {
   "cell_type": "markdown",
   "id": "3a768b4e",
   "metadata": {},
   "source": [
    "# Desafio"
   ]
  },
  {
   "cell_type": "markdown",
   "id": "a862226f",
   "metadata": {},
   "source": [
    "* Utilizando a bibliteca faker crie 1000 registro com o método fake.profile()\n",
    "* Normalize as respostas em uma dataframe\n",
    "* Crie a coluna idade: \"2023\" - \"ano de nascimento\"\n",
    "* Com base na idade validade quantas pessoas estão dentro da população ativa (entre 18 anos e 65 anos)\n",
    "* Valide os emails utilizando o regex visto em aula"
   ]
  },
  {
   "cell_type": "code",
   "execution_count": null,
   "id": "3bbdf4d6",
   "metadata": {},
   "outputs": [],
   "source": []
  },
  {
   "attachments": {},
   "cell_type": "markdown",
   "id": "20f9070d",
   "metadata": {},
   "source": [
    "# Aula 06"
   ]
  },
  {
   "cell_type": "markdown",
   "id": "0635271a",
   "metadata": {},
   "source": [
    "![Great Expectation](https://docs.greatexpectations.io/assets/images/data_context_does_for_you-df2eca32d0152ead16cccd5d3d226abb.png)"
   ]
  },
  {
   "cell_type": "markdown",
   "id": "18a6398a",
   "metadata": {},
   "source": [
    "## Instanciando um Contexto de Dados\n",
    "\n",
    "Obteremos um objeto DataContext com o seguinte código:"
   ]
  },
  {
   "cell_type": "code",
   "execution_count": null,
   "id": "47030a2a",
   "metadata": {},
   "outputs": [],
   "source": []
  },
  {
   "cell_type": "markdown",
   "id": "754e42ee",
   "metadata": {},
   "source": [
    "## Verificando o conteúdo do contexto de dados\n",
    "Podemos garantir que o Data Context foi instanciado corretamente imprimindo seu conteúdo."
   ]
  },
  {
   "cell_type": "code",
   "execution_count": null,
   "id": "943809bb",
   "metadata": {},
   "outputs": [],
   "source": []
  },
  {
   "attachments": {},
   "cell_type": "markdown",
   "id": "e931e040",
   "metadata": {},
   "source": [
    "### Salvando o contexto de dados para uso futuro (rodar apenas uma vez)\n",
    "Como não inicializamos anteriormente um Contexto de dados do sistema de arquivos ou especificamos um caminho para criar um, o Contexto de dados que recebemos de gx.get_context() era um Contexto de dados efêmero temporário na memória. \n",
    "\n",
    "Para salvar este Contexto de Dados para uso futuro, vamos convertê-lo em um Contexto de Dados do Sistema de Arquivos:"
   ]
  },
  {
   "cell_type": "markdown",
   "id": "1ad266e3",
   "metadata": {},
   "source": [
    "Você pode fornecer o caminho para uma pasta específica ao converter seu contexto de dados efêmeros em um contexto de dados do sistema de arquivos.\n",
    "Se você fizer isso, seu contexto de dados do sistema de arquivos será inicializado nesse local. \n",
    "Caso contrário, seu novo contexto de dados do sistema de arquivos será inicializado na pasta em que seu script é executado."
   ]
  },
  {
   "cell_type": "code",
   "execution_count": null,
   "id": "e2e8a424",
   "metadata": {},
   "outputs": [],
   "source": []
  },
  {
   "cell_type": "markdown",
   "id": "a0b809d8",
   "metadata": {},
   "source": [
    "## 2. Conectando aos dados\n",
    "Nos conectaremos aos dados .csv armazenados em nosso repositório:"
   ]
  },
  {
   "cell_type": "code",
   "execution_count": null,
   "id": "6eebd0d9",
   "metadata": {},
   "outputs": [],
   "source": []
  },
  {
   "cell_type": "markdown",
   "id": "21f9b3de",
   "metadata": {},
   "source": [
    "## 3. Criando Expectativas\n",
    "\n",
    "Quando lemos nossos dados .csv, recebemos uma instância do __Validator__ de volta. \n",
    "\n",
    "Um __Validador__ é um objeto capaz de armazenar Expectativas sobre os dados aos quais está associado, bem como realizar introspecções sobre esses dados.\n",
    "\n",
    "A seguir definiremos algumas Expectations.\n",
    "\n",
    "Com a Expectation definida abaixo, estamos afirmando que esperamos que a coluna ``agi_stub`` seja sempre preenchida. \n",
    "\n",
    "Ou seja: nenhum dos valores da coluna deve ser nulo."
   ]
  },
  {
   "cell_type": "code",
   "execution_count": null,
   "id": "636c7ef9",
   "metadata": {},
   "outputs": [],
   "source": []
  },
  {
   "cell_type": "markdown",
   "id": "3db6faf0",
   "metadata": {},
   "source": [
    "## 4. Validando os dados\n",
    "\n",
    "### 4.1 Executando as Expectativas definidas\n",
    "Agora que definimos nossas expectativas, é hora do GX fazer uma introspecção de nossos dados e ver se eles correspondem ao que dissemos a GX para esperar. Para isso, definimos um Checkpoint (que nos permitirá repetir a Validação no futuro)."
   ]
  },
  {
   "cell_type": "code",
   "execution_count": null,
   "id": "0a87b356",
   "metadata": {},
   "outputs": [],
   "source": []
  },
  {
   "cell_type": "markdown",
   "id": "10ab059d",
   "metadata": {},
   "source": [
    "Uma vez criado o Checkpoint, vamos executá-lo e receber de volta os resultados da nossa Validação."
   ]
  },
  {
   "cell_type": "code",
   "execution_count": null,
   "id": "76d53d2e",
   "metadata": {},
   "outputs": [],
   "source": []
  },
  {
   "cell_type": "markdown",
   "id": "f2fe7ef2",
   "metadata": {},
   "source": [
    "### 4.2 Visualizando os resultados\n",
    "O Great Expectations fornece uma maneira amigável e legível por humanos de visualizar os resultados de Validations: Data Docs. \n",
    "\n",
    "Nosso Checkpoint terá compilado automaticamente novos Data Docs para incluir os resultados da validação que executamos, para que possamos visualizá-los imediatamente:"
   ]
  },
  {
   "cell_type": "code",
   "execution_count": null,
   "id": "9475041f",
   "metadata": {},
   "outputs": [],
   "source": []
  }
 ],
 "metadata": {
  "kernelspec": {
   "display_name": "Python 3",
   "language": "python",
   "name": "python3"
  },
  "language_info": {
   "codemirror_mode": {
    "name": "ipython",
    "version": 3
   },
   "file_extension": ".py",
   "mimetype": "text/x-python",
   "name": "python",
   "nbconvert_exporter": "python",
   "pygments_lexer": "ipython3",
   "version": "3.8.10"
  }
 },
 "nbformat": 4,
 "nbformat_minor": 5
}
